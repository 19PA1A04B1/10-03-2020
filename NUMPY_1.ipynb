{
  "nbformat": 4,
  "nbformat_minor": 0,
  "metadata": {
    "colab": {
      "name": "NUMPY 1.ipynb",
      "provenance": [],
      "authorship_tag": "ABX9TyO9j25QqDzMz/N6FQrZF+a/",
      "include_colab_link": true
    },
    "kernelspec": {
      "name": "python3",
      "display_name": "Python 3"
    }
  },
  "cells": [
    {
      "cell_type": "markdown",
      "metadata": {
        "id": "view-in-github",
        "colab_type": "text"
      },
      "source": [
        "<a href=\"https://colab.research.google.com/github/19PA1A04B1/10-03-2020/blob/master/NUMPY_1.ipynb\" target=\"_parent\"><img src=\"https://colab.research.google.com/assets/colab-badge.svg\" alt=\"Open In Colab\"/></a>"
      ]
    },
    {
      "cell_type": "code",
      "metadata": {
        "id": "1XDdPLNF2aZb"
      },
      "source": [
        "import numpy as np"
      ],
      "execution_count": 1,
      "outputs": []
    },
    {
      "cell_type": "code",
      "metadata": {
        "colab": {
          "base_uri": "https://localhost:8080/"
        },
        "id": "Rdl2Sr4Q4Umo",
        "outputId": "ab08d32d-c932-43ac-8cac-bb4df66366df"
      },
      "source": [
        "a = np.arange(20).reshape(4, 5) \r\n",
        "a"
      ],
      "execution_count": 3,
      "outputs": [
        {
          "output_type": "execute_result",
          "data": {
            "text/plain": [
              "array([[ 0,  1,  2,  3,  4],\n",
              "       [ 5,  6,  7,  8,  9],\n",
              "       [10, 11, 12, 13, 14],\n",
              "       [15, 16, 17, 18, 19]])"
            ]
          },
          "metadata": {
            "tags": []
          },
          "execution_count": 3
        }
      ]
    },
    {
      "cell_type": "code",
      "metadata": {
        "colab": {
          "base_uri": "https://localhost:8080/"
        },
        "id": "F1f9uo5m4ewx",
        "outputId": "2c999f37-c3b6-421d-b99c-58a4df2f74df"
      },
      "source": [
        "a[a<4]=-1\r\n",
        "a"
      ],
      "execution_count": 4,
      "outputs": [
        {
          "output_type": "execute_result",
          "data": {
            "text/plain": [
              "array([[-1, -1, -1, -1,  4],\n",
              "       [ 5,  6,  7,  8,  9],\n",
              "       [10, 11, 12, 13, 14],\n",
              "       [15, 16, 17, 18, 19]])"
            ]
          },
          "metadata": {
            "tags": []
          },
          "execution_count": 4
        }
      ]
    },
    {
      "cell_type": "code",
      "metadata": {
        "colab": {
          "base_uri": "https://localhost:8080/"
        },
        "id": "XTopJcWj5t2e",
        "outputId": "8a46ee88-b89c-4617-98cd-e1d58ce8e897"
      },
      "source": [
        "a=np.sin(a)*10\r\n",
        "a"
      ],
      "execution_count": 5,
      "outputs": [
        {
          "output_type": "execute_result",
          "data": {
            "text/plain": [
              "array([[-8.41470985, -8.41470985, -8.41470985, -8.41470985, -7.56802495],\n",
              "       [-9.58924275, -2.79415498,  6.56986599,  9.89358247,  4.12118485],\n",
              "       [-5.44021111, -9.99990207, -5.36572918,  4.20167037,  9.90607356],\n",
              "       [ 6.5028784 , -2.87903317, -9.61397492, -7.50987247,  1.4987721 ]])"
            ]
          },
          "metadata": {
            "tags": []
          },
          "execution_count": 5
        }
      ]
    },
    {
      "cell_type": "code",
      "metadata": {
        "colab": {
          "base_uri": "https://localhost:8080/"
        },
        "id": "6N4-I_OT6DzQ",
        "outputId": "557b0186-eae9-41d2-d923-07fbc4d59bc0"
      },
      "source": [
        "a[1:3,1:2]\r\n"
      ],
      "execution_count": 6,
      "outputs": [
        {
          "output_type": "execute_result",
          "data": {
            "text/plain": [
              "array([[-2.79415498],\n",
              "       [-9.99990207]])"
            ]
          },
          "metadata": {
            "tags": []
          },
          "execution_count": 6
        }
      ]
    },
    {
      "cell_type": "code",
      "metadata": {
        "colab": {
          "base_uri": "https://localhost:8080/"
        },
        "id": "NptbHlWa6cC3",
        "outputId": "ffb45d65-b184-4385-e6c0-7780aa057949"
      },
      "source": [
        "a[-1,-1]"
      ],
      "execution_count": 8,
      "outputs": [
        {
          "output_type": "execute_result",
          "data": {
            "text/plain": [
              "1.4987720966295235"
            ]
          },
          "metadata": {
            "tags": []
          },
          "execution_count": 8
        }
      ]
    },
    {
      "cell_type": "code",
      "metadata": {
        "colab": {
          "base_uri": "https://localhost:8080/"
        },
        "id": "F9VOPLl76iKf",
        "outputId": "ab13e500-ae14-41ec-ea1e-711505e7d206"
      },
      "source": [
        "a.T"
      ],
      "execution_count": 9,
      "outputs": [
        {
          "output_type": "execute_result",
          "data": {
            "text/plain": [
              "array([[-8.41470985, -9.58924275, -5.44021111,  6.5028784 ],\n",
              "       [-8.41470985, -2.79415498, -9.99990207, -2.87903317],\n",
              "       [-8.41470985,  6.56986599, -5.36572918, -9.61397492],\n",
              "       [-8.41470985,  9.89358247,  4.20167037, -7.50987247],\n",
              "       [-7.56802495,  4.12118485,  9.90607356,  1.4987721 ]])"
            ]
          },
          "metadata": {
            "tags": []
          },
          "execution_count": 9
        }
      ]
    },
    {
      "cell_type": "code",
      "metadata": {
        "colab": {
          "base_uri": "https://localhost:8080/"
        },
        "id": "nt5WshW76sw4",
        "outputId": "9df74086-f24d-4642-d706-cc0a7c8a5aeb"
      },
      "source": [
        "a.reshape(2,10)"
      ],
      "execution_count": 10,
      "outputs": [
        {
          "output_type": "execute_result",
          "data": {
            "text/plain": [
              "array([[-8.41470985, -8.41470985, -8.41470985, -8.41470985, -7.56802495,\n",
              "        -9.58924275, -2.79415498,  6.56986599,  9.89358247,  4.12118485],\n",
              "       [-5.44021111, -9.99990207, -5.36572918,  4.20167037,  9.90607356,\n",
              "         6.5028784 , -2.87903317, -9.61397492, -7.50987247,  1.4987721 ]])"
            ]
          },
          "metadata": {
            "tags": []
          },
          "execution_count": 10
        }
      ]
    },
    {
      "cell_type": "code",
      "metadata": {
        "colab": {
          "base_uri": "https://localhost:8080/"
        },
        "id": "RbLg2i3263Um",
        "outputId": "df79674b-5e67-4fdf-d481-39889d3725ee"
      },
      "source": [
        "a[-1,]"
      ],
      "execution_count": 11,
      "outputs": [
        {
          "output_type": "execute_result",
          "data": {
            "text/plain": [
              "array([ 6.5028784 , -2.87903317, -9.61397492, -7.50987247,  1.4987721 ])"
            ]
          },
          "metadata": {
            "tags": []
          },
          "execution_count": 11
        }
      ]
    },
    {
      "cell_type": "code",
      "metadata": {
        "colab": {
          "base_uri": "https://localhost:8080/"
        },
        "id": "BZ6uQjJZ69-_",
        "outputId": "b244f979-b01c-4f24-b861-4db86942c234"
      },
      "source": [
        "a.ravel()"
      ],
      "execution_count": 13,
      "outputs": [
        {
          "output_type": "execute_result",
          "data": {
            "text/plain": [
              "array([-8.41470985, -8.41470985, -8.41470985, -8.41470985, -7.56802495,\n",
              "       -9.58924275, -2.79415498,  6.56986599,  9.89358247,  4.12118485,\n",
              "       -5.44021111, -9.99990207, -5.36572918,  4.20167037,  9.90607356,\n",
              "        6.5028784 , -2.87903317, -9.61397492, -7.50987247,  1.4987721 ])"
            ]
          },
          "metadata": {
            "tags": []
          },
          "execution_count": 13
        }
      ]
    },
    {
      "cell_type": "code",
      "metadata": {
        "id": "Ek9-CWXG7NDR"
      },
      "source": [
        ""
      ],
      "execution_count": null,
      "outputs": []
    }
  ]
}
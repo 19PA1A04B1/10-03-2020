{
  "nbformat": 4,
  "nbformat_minor": 0,
  "metadata": {
    "colab": {
      "name": "question 4 uvlinearregression.ipynb",
      "provenance": [],
      "authorship_tag": "ABX9TyOn/Xfbd9vJZhWCuGI4j6F5",
      "include_colab_link": true
    },
    "kernelspec": {
      "name": "python3",
      "display_name": "Python 3"
    }
  },
  "cells": [
    {
      "cell_type": "markdown",
      "metadata": {
        "id": "view-in-github",
        "colab_type": "text"
      },
      "source": [
        "<a href=\"https://colab.research.google.com/github/19PA1A04B1/10-03-2020/blob/master/question_4_uvlinearregression.ipynb\" target=\"_parent\"><img src=\"https://colab.research.google.com/assets/colab-badge.svg\" alt=\"Open In Colab\"/></a>"
      ]
    },
    {
      "cell_type": "code",
      "metadata": {
        "id": "jI5vU6BwPCIO"
      },
      "source": [
        "# Import the required packages\r\n",
        "import pandas as pd # for handling data in the form of tables\r\n",
        "import numpy as np # For handling matrix\r\n",
        "from sklearn.model_selection import train_test_split # For spliting the data into train and test\r\n",
        "from sklearn.linear_model import LinearRegression # for using the model\r\n",
        "from sklearn import metrics\r\n",
        "import matplotlib.pyplot as plt # for plotting"
      ],
      "execution_count": 2,
      "outputs": []
    },
    {
      "cell_type": "code",
      "metadata": {
        "colab": {
          "base_uri": "https://localhost:8080/",
          "height": 418
        },
        "id": "O7FxESFDPVnd",
        "outputId": "6c49f391-66fb-40ba-be53-bde6d8c71989"
      },
      "source": [
        "a=pd.read_csv(\"students_placement_data.csv\")\r\n",
        "a"
      ],
      "execution_count": 3,
      "outputs": [
        {
          "output_type": "execute_result",
          "data": {
            "text/html": [
              "<div>\n",
              "<style scoped>\n",
              "    .dataframe tbody tr th:only-of-type {\n",
              "        vertical-align: middle;\n",
              "    }\n",
              "\n",
              "    .dataframe tbody tr th {\n",
              "        vertical-align: top;\n",
              "    }\n",
              "\n",
              "    .dataframe thead th {\n",
              "        text-align: right;\n",
              "    }\n",
              "</style>\n",
              "<table border=\"1\" class=\"dataframe\">\n",
              "  <thead>\n",
              "    <tr style=\"text-align: right;\">\n",
              "      <th></th>\n",
              "      <th>Roll No</th>\n",
              "      <th>Gender</th>\n",
              "      <th>Section</th>\n",
              "      <th>SSC Percentage</th>\n",
              "      <th>inter_Diploma_percentage</th>\n",
              "      <th>B.Tech_percentage</th>\n",
              "      <th>Backlogs</th>\n",
              "      <th>registered_for_ Placement_Training</th>\n",
              "      <th>placement status</th>\n",
              "    </tr>\n",
              "  </thead>\n",
              "  <tbody>\n",
              "    <tr>\n",
              "      <th>0</th>\n",
              "      <td>1</td>\n",
              "      <td>M</td>\n",
              "      <td>A</td>\n",
              "      <td>87.3</td>\n",
              "      <td>65.30</td>\n",
              "      <td>40.00</td>\n",
              "      <td>18</td>\n",
              "      <td>NO</td>\n",
              "      <td>Not placed</td>\n",
              "    </tr>\n",
              "    <tr>\n",
              "      <th>1</th>\n",
              "      <td>2</td>\n",
              "      <td>F</td>\n",
              "      <td>A</td>\n",
              "      <td>89.0</td>\n",
              "      <td>92.40</td>\n",
              "      <td>71.45</td>\n",
              "      <td>0</td>\n",
              "      <td>yes</td>\n",
              "      <td>Placed</td>\n",
              "    </tr>\n",
              "    <tr>\n",
              "      <th>2</th>\n",
              "      <td>3</td>\n",
              "      <td>F</td>\n",
              "      <td>A</td>\n",
              "      <td>67.0</td>\n",
              "      <td>68.00</td>\n",
              "      <td>45.26</td>\n",
              "      <td>13</td>\n",
              "      <td>yes</td>\n",
              "      <td>Not placed</td>\n",
              "    </tr>\n",
              "    <tr>\n",
              "      <th>3</th>\n",
              "      <td>4</td>\n",
              "      <td>M</td>\n",
              "      <td>A</td>\n",
              "      <td>71.0</td>\n",
              "      <td>70.40</td>\n",
              "      <td>36.47</td>\n",
              "      <td>17</td>\n",
              "      <td>yes</td>\n",
              "      <td>Not placed</td>\n",
              "    </tr>\n",
              "    <tr>\n",
              "      <th>4</th>\n",
              "      <td>5</td>\n",
              "      <td>M</td>\n",
              "      <td>A</td>\n",
              "      <td>67.0</td>\n",
              "      <td>65.50</td>\n",
              "      <td>42.52</td>\n",
              "      <td>17</td>\n",
              "      <td>yes</td>\n",
              "      <td>Not placed</td>\n",
              "    </tr>\n",
              "    <tr>\n",
              "      <th>...</th>\n",
              "      <td>...</td>\n",
              "      <td>...</td>\n",
              "      <td>...</td>\n",
              "      <td>...</td>\n",
              "      <td>...</td>\n",
              "      <td>...</td>\n",
              "      <td>...</td>\n",
              "      <td>...</td>\n",
              "      <td>...</td>\n",
              "    </tr>\n",
              "    <tr>\n",
              "      <th>112</th>\n",
              "      <td>113</td>\n",
              "      <td>M</td>\n",
              "      <td>B</td>\n",
              "      <td>81.1</td>\n",
              "      <td>78.60</td>\n",
              "      <td>35.84</td>\n",
              "      <td>16</td>\n",
              "      <td>NO</td>\n",
              "      <td>Not placed</td>\n",
              "    </tr>\n",
              "    <tr>\n",
              "      <th>113</th>\n",
              "      <td>114</td>\n",
              "      <td>M</td>\n",
              "      <td>B</td>\n",
              "      <td>81.3</td>\n",
              "      <td>85.12</td>\n",
              "      <td>68.50</td>\n",
              "      <td>0</td>\n",
              "      <td>NO</td>\n",
              "      <td>Not placed</td>\n",
              "    </tr>\n",
              "    <tr>\n",
              "      <th>114</th>\n",
              "      <td>115</td>\n",
              "      <td>M</td>\n",
              "      <td>B</td>\n",
              "      <td>83.5</td>\n",
              "      <td>89.90</td>\n",
              "      <td>76.30</td>\n",
              "      <td>0</td>\n",
              "      <td>NO</td>\n",
              "      <td>Not placed</td>\n",
              "    </tr>\n",
              "    <tr>\n",
              "      <th>115</th>\n",
              "      <td>116</td>\n",
              "      <td>M</td>\n",
              "      <td>B</td>\n",
              "      <td>85.5</td>\n",
              "      <td>90.63</td>\n",
              "      <td>74.50</td>\n",
              "      <td>0</td>\n",
              "      <td>NO</td>\n",
              "      <td>Not placed</td>\n",
              "    </tr>\n",
              "    <tr>\n",
              "      <th>116</th>\n",
              "      <td>117</td>\n",
              "      <td>M</td>\n",
              "      <td>B</td>\n",
              "      <td>80.0</td>\n",
              "      <td>83.33</td>\n",
              "      <td>65.53</td>\n",
              "      <td>0</td>\n",
              "      <td>NO</td>\n",
              "      <td>Not placed</td>\n",
              "    </tr>\n",
              "  </tbody>\n",
              "</table>\n",
              "<p>117 rows × 9 columns</p>\n",
              "</div>"
            ],
            "text/plain": [
              "     Roll No Gender  ... registered_for_ Placement_Training  placement status\n",
              "0          1      M  ...                                 NO        Not placed\n",
              "1          2      F  ...                                yes            Placed\n",
              "2          3      F  ...                                yes        Not placed\n",
              "3          4      M  ...                                yes        Not placed\n",
              "4          5      M  ...                                yes        Not placed\n",
              "..       ...    ...  ...                                ...               ...\n",
              "112      113      M  ...                                 NO        Not placed\n",
              "113      114      M  ...                                 NO        Not placed\n",
              "114      115      M  ...                                 NO        Not placed\n",
              "115      116      M  ...                                 NO        Not placed\n",
              "116      117      M  ...                                 NO        Not placed\n",
              "\n",
              "[117 rows x 9 columns]"
            ]
          },
          "metadata": {
            "tags": []
          },
          "execution_count": 3
        }
      ]
    },
    {
      "cell_type": "code",
      "metadata": {
        "id": "Pc6GVC-kPf-6"
      },
      "source": [
        "x=a[\"inter_Diploma_percentage\"].values.reshape(-1,1)\r\n",
        "y=a[\"B.Tech_percentage\"].values.reshape(-1,1)"
      ],
      "execution_count": 4,
      "outputs": []
    },
    {
      "cell_type": "code",
      "metadata": {
        "id": "ikPAbAGEQDNs"
      },
      "source": [
        "X_train,X_test,Y_train,Y_test=train_test_split(x,y,test_size=0.2,random_state=0)\r\n"
      ],
      "execution_count": 5,
      "outputs": []
    },
    {
      "cell_type": "code",
      "metadata": {
        "colab": {
          "base_uri": "https://localhost:8080/"
        },
        "id": "l2E_cYfPQEBA",
        "outputId": "61b49ff9-d8da-400a-f411-951cfad0d463"
      },
      "source": [
        "print(\"X_train- Training data (features) size is \",X_train.shape)\r\n",
        "print(\"X_test- Test data (features) size is \",X_test.shape)\r\n",
        "print(\"Y_train- Training data (labels) size is \",Y_train.shape)\r\n",
        "print(\"Y_test- Test data (labels) size is \",Y_test.shape)"
      ],
      "execution_count": 6,
      "outputs": [
        {
          "output_type": "stream",
          "text": [
            "X_train- Training data (features) size is  (93, 1)\n",
            "X_test- Test data (features) size is  (24, 1)\n",
            "Y_train- Training data (labels) size is  (93, 1)\n",
            "Y_test- Test data (labels) size is  (24, 1)\n"
          ],
          "name": "stdout"
        }
      ]
    },
    {
      "cell_type": "code",
      "metadata": {
        "colab": {
          "base_uri": "https://localhost:8080/"
        },
        "id": "WV15izdCQMHr",
        "outputId": "88d0bea4-d617-4e9c-f526-211947d2aa8f"
      },
      "source": [
        "model=LinearRegression()\r\n",
        "model.fit(X_train,Y_train) "
      ],
      "execution_count": 7,
      "outputs": [
        {
          "output_type": "execute_result",
          "data": {
            "text/plain": [
              "LinearRegression(copy_X=True, fit_intercept=True, n_jobs=None, normalize=False)"
            ]
          },
          "metadata": {
            "tags": []
          },
          "execution_count": 7
        }
      ]
    },
    {
      "cell_type": "code",
      "metadata": {
        "colab": {
          "base_uri": "https://localhost:8080/"
        },
        "id": "koJBlH45QTfn",
        "outputId": "04f26b98-b5e3-49bc-efa9-f397fc796a38"
      },
      "source": [
        "print(model.intercept_)  # This is our 'intercept'"
      ],
      "execution_count": 8,
      "outputs": [
        {
          "output_type": "stream",
          "text": [
            "[-2.91074436]\n"
          ],
          "name": "stdout"
        }
      ]
    },
    {
      "cell_type": "code",
      "metadata": {
        "colab": {
          "base_uri": "https://localhost:8080/"
        },
        "id": "pzJ7DUtyQaa-",
        "outputId": "678a0902-660a-4133-cd71-7785f53320e5"
      },
      "source": [
        "print(model.coef_) # This is our 'slope'"
      ],
      "execution_count": 9,
      "outputs": [
        {
          "output_type": "stream",
          "text": [
            "[[0.81041292]]\n"
          ],
          "name": "stdout"
        }
      ]
    },
    {
      "cell_type": "code",
      "metadata": {
        "colab": {
          "base_uri": "https://localhost:8080/"
        },
        "id": "go1dpg3TQltV",
        "outputId": "08186d20-8d45-40d7-eee0-a7a06eab7ee3"
      },
      "source": [
        "predicted_btech=model.predict(X_test) # Predict the weights of people in based on their heights\r\n",
        "predicted_btech"
      ],
      "execution_count": 10,
      "outputs": [
        {
          "output_type": "execute_result",
          "data": {
            "text/plain": [
              "array([[58.92376179],\n",
              "       [73.8353596 ],\n",
              "       [46.60548533],\n",
              "       [61.84124832],\n",
              "       [61.35500056],\n",
              "       [41.01363615],\n",
              "       [62.73270253],\n",
              "       [60.78771152],\n",
              "       [64.35352838],\n",
              "       [68.89184076],\n",
              "       [69.70225369],\n",
              "       [52.19733451],\n",
              "       [71.80932729],\n",
              "       [67.75726267],\n",
              "       [64.62096465],\n",
              "       [59.08584437],\n",
              "       [62.73270253],\n",
              "       [63.29999158],\n",
              "       [70.99891437],\n",
              "       [62.0033309 ],\n",
              "       [65.97435423],\n",
              "       [54.55563612],\n",
              "       [68.97288205],\n",
              "       [72.05245117]])"
            ]
          },
          "metadata": {
            "tags": []
          },
          "execution_count": 10
        }
      ]
    },
    {
      "cell_type": "code",
      "metadata": {
        "colab": {
          "base_uri": "https://localhost:8080/",
          "height": 758
        },
        "id": "QbNEzPLHQzUV",
        "outputId": "f9ec27a5-492f-4016-9e03-c813c9dcca25"
      },
      "source": [
        "Actual_predicted=pd.DataFrame({'predicted':predicted_btech.flatten(), 'Actual':Y_test.flatten()})\r\n",
        "Actual_predicted"
      ],
      "execution_count": 11,
      "outputs": [
        {
          "output_type": "execute_result",
          "data": {
            "text/html": [
              "<div>\n",
              "<style scoped>\n",
              "    .dataframe tbody tr th:only-of-type {\n",
              "        vertical-align: middle;\n",
              "    }\n",
              "\n",
              "    .dataframe tbody tr th {\n",
              "        vertical-align: top;\n",
              "    }\n",
              "\n",
              "    .dataframe thead th {\n",
              "        text-align: right;\n",
              "    }\n",
              "</style>\n",
              "<table border=\"1\" class=\"dataframe\">\n",
              "  <thead>\n",
              "    <tr style=\"text-align: right;\">\n",
              "      <th></th>\n",
              "      <th>predicted</th>\n",
              "      <th>Actual</th>\n",
              "    </tr>\n",
              "  </thead>\n",
              "  <tbody>\n",
              "    <tr>\n",
              "      <th>0</th>\n",
              "      <td>58.923762</td>\n",
              "      <td>71.49</td>\n",
              "    </tr>\n",
              "    <tr>\n",
              "      <th>1</th>\n",
              "      <td>73.835360</td>\n",
              "      <td>81.10</td>\n",
              "    </tr>\n",
              "    <tr>\n",
              "      <th>2</th>\n",
              "      <td>46.605485</td>\n",
              "      <td>62.98</td>\n",
              "    </tr>\n",
              "    <tr>\n",
              "      <th>3</th>\n",
              "      <td>61.841248</td>\n",
              "      <td>68.70</td>\n",
              "    </tr>\n",
              "    <tr>\n",
              "      <th>4</th>\n",
              "      <td>61.355001</td>\n",
              "      <td>61.02</td>\n",
              "    </tr>\n",
              "    <tr>\n",
              "      <th>5</th>\n",
              "      <td>41.013636</td>\n",
              "      <td>60.53</td>\n",
              "    </tr>\n",
              "    <tr>\n",
              "      <th>6</th>\n",
              "      <td>62.732703</td>\n",
              "      <td>61.00</td>\n",
              "    </tr>\n",
              "    <tr>\n",
              "      <th>7</th>\n",
              "      <td>60.787712</td>\n",
              "      <td>35.84</td>\n",
              "    </tr>\n",
              "    <tr>\n",
              "      <th>8</th>\n",
              "      <td>64.353528</td>\n",
              "      <td>68.30</td>\n",
              "    </tr>\n",
              "    <tr>\n",
              "      <th>9</th>\n",
              "      <td>68.891841</td>\n",
              "      <td>69.62</td>\n",
              "    </tr>\n",
              "    <tr>\n",
              "      <th>10</th>\n",
              "      <td>69.702254</td>\n",
              "      <td>83.38</td>\n",
              "    </tr>\n",
              "    <tr>\n",
              "      <th>11</th>\n",
              "      <td>52.197335</td>\n",
              "      <td>45.26</td>\n",
              "    </tr>\n",
              "    <tr>\n",
              "      <th>12</th>\n",
              "      <td>71.809327</td>\n",
              "      <td>78.00</td>\n",
              "    </tr>\n",
              "    <tr>\n",
              "      <th>13</th>\n",
              "      <td>67.757263</td>\n",
              "      <td>54.18</td>\n",
              "    </tr>\n",
              "    <tr>\n",
              "      <th>14</th>\n",
              "      <td>64.620965</td>\n",
              "      <td>65.53</td>\n",
              "    </tr>\n",
              "    <tr>\n",
              "      <th>15</th>\n",
              "      <td>59.085844</td>\n",
              "      <td>52.00</td>\n",
              "    </tr>\n",
              "    <tr>\n",
              "      <th>16</th>\n",
              "      <td>62.732703</td>\n",
              "      <td>51.00</td>\n",
              "    </tr>\n",
              "    <tr>\n",
              "      <th>17</th>\n",
              "      <td>63.299992</td>\n",
              "      <td>73.13</td>\n",
              "    </tr>\n",
              "    <tr>\n",
              "      <th>18</th>\n",
              "      <td>70.998914</td>\n",
              "      <td>74.30</td>\n",
              "    </tr>\n",
              "    <tr>\n",
              "      <th>19</th>\n",
              "      <td>62.003331</td>\n",
              "      <td>63.41</td>\n",
              "    </tr>\n",
              "    <tr>\n",
              "      <th>20</th>\n",
              "      <td>65.974354</td>\n",
              "      <td>70.01</td>\n",
              "    </tr>\n",
              "    <tr>\n",
              "      <th>21</th>\n",
              "      <td>54.555636</td>\n",
              "      <td>55.70</td>\n",
              "    </tr>\n",
              "    <tr>\n",
              "      <th>22</th>\n",
              "      <td>68.972882</td>\n",
              "      <td>74.96</td>\n",
              "    </tr>\n",
              "    <tr>\n",
              "      <th>23</th>\n",
              "      <td>72.052451</td>\n",
              "      <td>70.85</td>\n",
              "    </tr>\n",
              "  </tbody>\n",
              "</table>\n",
              "</div>"
            ],
            "text/plain": [
              "    predicted  Actual\n",
              "0   58.923762   71.49\n",
              "1   73.835360   81.10\n",
              "2   46.605485   62.98\n",
              "3   61.841248   68.70\n",
              "4   61.355001   61.02\n",
              "5   41.013636   60.53\n",
              "6   62.732703   61.00\n",
              "7   60.787712   35.84\n",
              "8   64.353528   68.30\n",
              "9   68.891841   69.62\n",
              "10  69.702254   83.38\n",
              "11  52.197335   45.26\n",
              "12  71.809327   78.00\n",
              "13  67.757263   54.18\n",
              "14  64.620965   65.53\n",
              "15  59.085844   52.00\n",
              "16  62.732703   51.00\n",
              "17  63.299992   73.13\n",
              "18  70.998914   74.30\n",
              "19  62.003331   63.41\n",
              "20  65.974354   70.01\n",
              "21  54.555636   55.70\n",
              "22  68.972882   74.96\n",
              "23  72.052451   70.85"
            ]
          },
          "metadata": {
            "tags": []
          },
          "execution_count": 11
        }
      ]
    },
    {
      "cell_type": "code",
      "metadata": {
        "colab": {
          "base_uri": "https://localhost:8080/",
          "height": 296
        },
        "id": "5ThHFXhvQ53s",
        "outputId": "27354496-91e9-47f4-835d-91f5ffc1bdb1"
      },
      "source": [
        "plt.scatter(X_test,Y_test,color='red') # Original values are plotted in red\r\n",
        "plt.plot(X_test,predicted_btech, color='blue') # Predicted values are plotted in blue\r\n",
        "plt.xlabel(\"Inter\") # Name of X-axis\r\n",
        "plt.ylabel(\"B.Tech\") # Name of Y-axis"
      ],
      "execution_count": 12,
      "outputs": [
        {
          "output_type": "execute_result",
          "data": {
            "text/plain": [
              "Text(0, 0.5, 'B.Tech')"
            ]
          },
          "metadata": {
            "tags": []
          },
          "execution_count": 12
        },
        {
          "output_type": "display_data",
          "data": {
            "image/png": "[encoded data removed]",
            "text/plain": [
              "<Figure size 432x288 with 1 Axes>"
            ]
          },
          "metadata": {
            "tags": [],
            "needs_background": "light"
          }
        }
      ]
    },
    {
      "cell_type": "code",
      "metadata": {
        "colab": {
          "base_uri": "https://localhost:8080/"
        },
        "id": "LVYlBAgBRABa",
        "outputId": "f45b3716-a575-47a0-f7b5-e79f0c3d21de"
      },
      "source": [
        "print('Mean absolute error:',metrics.mean_absolute_error(Y_test, predicted_btech))\r\n",
        "print('Mean squared error:',metrics.mean_squared_error(Y_test, predicted_btech))\r\n",
        "print(\"R square\",metrics.r2_score(Y_test, predicted_btech))\r\n",
        "print('Root Mean squared error:',np.sqrt(metrics.mean_squared_error(Y_test, predicted_btech)))"
      ],
      "execution_count": 13,
      "outputs": [
        {
          "output_type": "stream",
          "text": [
            "Mean absolute error: 7.553687276785884\n",
            "Mean squared error: 98.30444865156251\n",
            "R square 0.2213404843077168\n",
            "Root Mean squared error: 9.914859991525978\n"
          ],
          "name": "stdout"
        }
      ]
    }
  ]
}